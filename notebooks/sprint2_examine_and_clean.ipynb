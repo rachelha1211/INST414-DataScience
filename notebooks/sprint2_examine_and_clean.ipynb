{
 "cells": [
  {
   "cell_type": "markdown",
   "id": "96f42993-8d5c-44b5-934a-d590c710fc02",
   "metadata": {},
   "source": [
    "Import Libraries:"
   ]
  },
  {
   "cell_type": "code",
   "execution_count": 1,
   "id": "4b1ff67d-3393-4b28-bd5d-96c23910bc29",
   "metadata": {},
   "outputs": [],
   "source": [
    "import pandas as pd\n",
    "import numpy as np"
   ]
  },
  {
   "cell_type": "markdown",
   "id": "080aa708-5454-40cc-923e-f085edab889c",
   "metadata": {},
   "source": [
    "Load in CSV file:"
   ]
  },
  {
   "cell_type": "code",
   "execution_count": 3,
   "id": "4ffe61e9-2504-4cff-8ac4-ad22db066cdb",
   "metadata": {},
   "outputs": [
    {
     "data": {
      "text/html": [
       "<div>\n",
       "<style scoped>\n",
       "    .dataframe tbody tr th:only-of-type {\n",
       "        vertical-align: middle;\n",
       "    }\n",
       "\n",
       "    .dataframe tbody tr th {\n",
       "        vertical-align: top;\n",
       "    }\n",
       "\n",
       "    .dataframe thead th {\n",
       "        text-align: right;\n",
       "    }\n",
       "</style>\n",
       "<table border=\"1\" class=\"dataframe\">\n",
       "  <thead>\n",
       "    <tr style=\"text-align: right;\">\n",
       "      <th></th>\n",
       "      <th>Country</th>\n",
       "      <th>Year</th>\n",
       "      <th>Disease Name</th>\n",
       "      <th>Disease Category</th>\n",
       "      <th>Prevalence Rate (%)</th>\n",
       "      <th>Incidence Rate (%)</th>\n",
       "      <th>Mortality Rate (%)</th>\n",
       "      <th>Age Group</th>\n",
       "      <th>Gender</th>\n",
       "      <th>Population Affected</th>\n",
       "      <th>...</th>\n",
       "      <th>Hospital Beds per 1000</th>\n",
       "      <th>Treatment Type</th>\n",
       "      <th>Average Treatment Cost (USD)</th>\n",
       "      <th>Availability of Vaccines/Treatment</th>\n",
       "      <th>Recovery Rate (%)</th>\n",
       "      <th>DALYs</th>\n",
       "      <th>Improvement in 5 Years (%)</th>\n",
       "      <th>Per Capita Income (USD)</th>\n",
       "      <th>Education Index</th>\n",
       "      <th>Urbanization Rate (%)</th>\n",
       "    </tr>\n",
       "  </thead>\n",
       "  <tbody>\n",
       "    <tr>\n",
       "      <th>0</th>\n",
       "      <td>Italy</td>\n",
       "      <td>2013</td>\n",
       "      <td>Malaria</td>\n",
       "      <td>Respiratory</td>\n",
       "      <td>0.95</td>\n",
       "      <td>1.55</td>\n",
       "      <td>8.42</td>\n",
       "      <td>0-18</td>\n",
       "      <td>Male</td>\n",
       "      <td>471007</td>\n",
       "      <td>...</td>\n",
       "      <td>7.58</td>\n",
       "      <td>Medication</td>\n",
       "      <td>21064</td>\n",
       "      <td>No</td>\n",
       "      <td>91.82</td>\n",
       "      <td>4493</td>\n",
       "      <td>2.16</td>\n",
       "      <td>16886</td>\n",
       "      <td>0.79</td>\n",
       "      <td>86.02</td>\n",
       "    </tr>\n",
       "    <tr>\n",
       "      <th>1</th>\n",
       "      <td>France</td>\n",
       "      <td>2002</td>\n",
       "      <td>Ebola</td>\n",
       "      <td>Parasitic</td>\n",
       "      <td>12.46</td>\n",
       "      <td>8.63</td>\n",
       "      <td>8.75</td>\n",
       "      <td>61+</td>\n",
       "      <td>Male</td>\n",
       "      <td>634318</td>\n",
       "      <td>...</td>\n",
       "      <td>5.11</td>\n",
       "      <td>Surgery</td>\n",
       "      <td>47851</td>\n",
       "      <td>Yes</td>\n",
       "      <td>76.65</td>\n",
       "      <td>2366</td>\n",
       "      <td>4.82</td>\n",
       "      <td>80639</td>\n",
       "      <td>0.74</td>\n",
       "      <td>45.52</td>\n",
       "    </tr>\n",
       "    <tr>\n",
       "      <th>2</th>\n",
       "      <td>Turkey</td>\n",
       "      <td>2015</td>\n",
       "      <td>COVID-19</td>\n",
       "      <td>Genetic</td>\n",
       "      <td>0.91</td>\n",
       "      <td>2.35</td>\n",
       "      <td>6.22</td>\n",
       "      <td>36-60</td>\n",
       "      <td>Male</td>\n",
       "      <td>154878</td>\n",
       "      <td>...</td>\n",
       "      <td>3.49</td>\n",
       "      <td>Vaccination</td>\n",
       "      <td>27834</td>\n",
       "      <td>Yes</td>\n",
       "      <td>98.55</td>\n",
       "      <td>41</td>\n",
       "      <td>5.81</td>\n",
       "      <td>12245</td>\n",
       "      <td>0.41</td>\n",
       "      <td>40.20</td>\n",
       "    </tr>\n",
       "    <tr>\n",
       "      <th>3</th>\n",
       "      <td>Indonesia</td>\n",
       "      <td>2011</td>\n",
       "      <td>Parkinson's Disease</td>\n",
       "      <td>Autoimmune</td>\n",
       "      <td>4.68</td>\n",
       "      <td>6.29</td>\n",
       "      <td>3.99</td>\n",
       "      <td>0-18</td>\n",
       "      <td>Other</td>\n",
       "      <td>446224</td>\n",
       "      <td>...</td>\n",
       "      <td>8.44</td>\n",
       "      <td>Surgery</td>\n",
       "      <td>144</td>\n",
       "      <td>Yes</td>\n",
       "      <td>67.35</td>\n",
       "      <td>3201</td>\n",
       "      <td>2.22</td>\n",
       "      <td>49336</td>\n",
       "      <td>0.49</td>\n",
       "      <td>58.47</td>\n",
       "    </tr>\n",
       "    <tr>\n",
       "      <th>4</th>\n",
       "      <td>Italy</td>\n",
       "      <td>2013</td>\n",
       "      <td>Tuberculosis</td>\n",
       "      <td>Genetic</td>\n",
       "      <td>0.83</td>\n",
       "      <td>13.59</td>\n",
       "      <td>7.01</td>\n",
       "      <td>61+</td>\n",
       "      <td>Male</td>\n",
       "      <td>472908</td>\n",
       "      <td>...</td>\n",
       "      <td>5.90</td>\n",
       "      <td>Medication</td>\n",
       "      <td>8908</td>\n",
       "      <td>Yes</td>\n",
       "      <td>50.06</td>\n",
       "      <td>2832</td>\n",
       "      <td>6.93</td>\n",
       "      <td>47701</td>\n",
       "      <td>0.50</td>\n",
       "      <td>48.14</td>\n",
       "    </tr>\n",
       "  </tbody>\n",
       "</table>\n",
       "<p>5 rows × 22 columns</p>\n",
       "</div>"
      ],
      "text/plain": [
       "     Country  Year         Disease Name Disease Category  Prevalence Rate (%)  \\\n",
       "0      Italy  2013              Malaria      Respiratory                 0.95   \n",
       "1     France  2002                Ebola        Parasitic                12.46   \n",
       "2     Turkey  2015             COVID-19          Genetic                 0.91   \n",
       "3  Indonesia  2011  Parkinson's Disease       Autoimmune                 4.68   \n",
       "4      Italy  2013         Tuberculosis          Genetic                 0.83   \n",
       "\n",
       "   Incidence Rate (%)  Mortality Rate (%) Age Group Gender  \\\n",
       "0                1.55                8.42      0-18   Male   \n",
       "1                8.63                8.75       61+   Male   \n",
       "2                2.35                6.22     36-60   Male   \n",
       "3                6.29                3.99      0-18  Other   \n",
       "4               13.59                7.01       61+   Male   \n",
       "\n",
       "   Population Affected  ...  Hospital Beds per 1000  Treatment Type  \\\n",
       "0               471007  ...                    7.58      Medication   \n",
       "1               634318  ...                    5.11         Surgery   \n",
       "2               154878  ...                    3.49     Vaccination   \n",
       "3               446224  ...                    8.44         Surgery   \n",
       "4               472908  ...                    5.90      Medication   \n",
       "\n",
       "   Average Treatment Cost (USD) Availability of Vaccines/Treatment  \\\n",
       "0                         21064                                 No   \n",
       "1                         47851                                Yes   \n",
       "2                         27834                                Yes   \n",
       "3                           144                                Yes   \n",
       "4                          8908                                Yes   \n",
       "\n",
       "   Recovery Rate (%) DALYs  Improvement in 5 Years (%)  \\\n",
       "0              91.82  4493                        2.16   \n",
       "1              76.65  2366                        4.82   \n",
       "2              98.55    41                        5.81   \n",
       "3              67.35  3201                        2.22   \n",
       "4              50.06  2832                        6.93   \n",
       "\n",
       "   Per Capita Income (USD)  Education Index  Urbanization Rate (%)  \n",
       "0                    16886             0.79                  86.02  \n",
       "1                    80639             0.74                  45.52  \n",
       "2                    12245             0.41                  40.20  \n",
       "3                    49336             0.49                  58.47  \n",
       "4                    47701             0.50                  48.14  \n",
       "\n",
       "[5 rows x 22 columns]"
      ]
     },
     "execution_count": 3,
     "metadata": {},
     "output_type": "execute_result"
    }
   ],
   "source": [
    "global_health_data = pd.read_csv('C:/Users/blue3/OneDrive/Desktop/INST414/Global Health Statistics.csv')\n",
    "\n",
    "global_health_data.head()"
   ]
  },
  {
   "cell_type": "code",
   "execution_count": 6,
   "id": "823bccd9-0c0c-4e8a-aa7d-7f3be6894f39",
   "metadata": {},
   "outputs": [
    {
     "name": "stdout",
     "output_type": "stream",
     "text": [
      "<class 'pandas.core.frame.DataFrame'>\n",
      "RangeIndex: 1000000 entries, 0 to 999999\n",
      "Data columns (total 22 columns):\n",
      " #   Column                              Non-Null Count    Dtype  \n",
      "---  ------                              --------------    -----  \n",
      " 0   Country                             1000000 non-null  object \n",
      " 1   Year                                1000000 non-null  int64  \n",
      " 2   Disease Name                        1000000 non-null  object \n",
      " 3   Disease Category                    1000000 non-null  object \n",
      " 4   Prevalence Rate (%)                 1000000 non-null  float64\n",
      " 5   Incidence Rate (%)                  1000000 non-null  float64\n",
      " 6   Mortality Rate (%)                  1000000 non-null  float64\n",
      " 7   Age Group                           1000000 non-null  object \n",
      " 8   Gender                              1000000 non-null  object \n",
      " 9   Population Affected                 1000000 non-null  int64  \n",
      " 10  Healthcare Access (%)               1000000 non-null  float64\n",
      " 11  Doctors per 1000                    1000000 non-null  float64\n",
      " 12  Hospital Beds per 1000              1000000 non-null  float64\n",
      " 13  Treatment Type                      1000000 non-null  object \n",
      " 14  Average Treatment Cost (USD)        1000000 non-null  int64  \n",
      " 15  Availability of Vaccines/Treatment  1000000 non-null  object \n",
      " 16  Recovery Rate (%)                   1000000 non-null  float64\n",
      " 17  DALYs                               1000000 non-null  int64  \n",
      " 18  Improvement in 5 Years (%)          1000000 non-null  float64\n",
      " 19  Per Capita Income (USD)             1000000 non-null  int64  \n",
      " 20  Education Index                     1000000 non-null  float64\n",
      " 21  Urbanization Rate (%)               1000000 non-null  float64\n",
      "dtypes: float64(10), int64(5), object(7)\n",
      "memory usage: 167.8+ MB\n"
     ]
    }
   ],
   "source": [
    "global_health_data.info()"
   ]
  },
  {
   "cell_type": "markdown",
   "id": "0ed47d3c-ad5f-476d-97f4-e00b2dbf2ae9",
   "metadata": {},
   "source": [
    "Summary Statistics:"
   ]
  },
  {
   "cell_type": "code",
   "execution_count": 5,
   "id": "15f9a5e4-8b9c-41c1-b2b1-f79e1e39076d",
   "metadata": {
    "scrolled": true
   },
   "outputs": [
    {
     "data": {
      "text/plain": [
       "Country\n",
       "Russia          50532\n",
       "South Africa    50408\n",
       "South Korea     50181\n",
       "Germany         50176\n",
       "UK              50125\n",
       "Canada          50114\n",
       "Mexico          50080\n",
       "China           50066\n",
       "Nigeria         50046\n",
       "Saudi Arabia    49958\n",
       "Australia       49953\n",
       "France          49943\n",
       "USA             49913\n",
       "Turkey          49901\n",
       "Italy           49839\n",
       "Argentina       49798\n",
       "Japan           49764\n",
       "India           49760\n",
       "Indonesia       49756\n",
       "Brazil          49687\n",
       "Name: count, dtype: int64"
      ]
     },
     "execution_count": 5,
     "metadata": {},
     "output_type": "execute_result"
    }
   ],
   "source": [
    "#descriptive statistics for geographic span\n",
    "global_health_data['Country'].value_counts()"
   ]
  },
  {
   "cell_type": "code",
   "execution_count": 12,
   "id": "0f296756-e59e-40e8-9317-dcc6c44c8e8b",
   "metadata": {},
   "outputs": [
    {
     "data": {
      "text/plain": [
       "Disease Name\n",
       "COVID-19               50404\n",
       "Zika                   50313\n",
       "Dengue                 50289\n",
       "Cancer                 50285\n",
       "HIV/AIDS               50274\n",
       "Cholera                50249\n",
       "Asthma                 50122\n",
       "Leprosy                50064\n",
       "Diabetes               50020\n",
       "Rabies                 49975\n",
       "Hepatitis              49970\n",
       "Polio                  49956\n",
       "Malaria                49948\n",
       "Influenza              49919\n",
       "Tuberculosis           49862\n",
       "Alzheimer's Disease    49823\n",
       "Measles                49736\n",
       "Parkinson's Disease    49708\n",
       "Ebola                  49692\n",
       "Hypertension           49391\n",
       "Name: count, dtype: int64"
      ]
     },
     "execution_count": 12,
     "metadata": {},
     "output_type": "execute_result"
    }
   ],
   "source": [
    "global_health_data['Disease Name'].value_counts()"
   ]
  },
  {
   "cell_type": "code",
   "execution_count": 9,
   "id": "047d8842-d426-4633-a3af-65aedcfb6ea7",
   "metadata": {},
   "outputs": [
    {
     "data": {
      "text/plain": [
       "Gender\n",
       "Male      333676\n",
       "Female    333223\n",
       "Other     333101\n",
       "Name: count, dtype: int64"
      ]
     },
     "execution_count": 9,
     "metadata": {},
     "output_type": "execute_result"
    }
   ],
   "source": [
    "global_health_data['Gender'].value_counts()"
   ]
  },
  {
   "cell_type": "markdown",
   "id": "e4d5dc85-6b31-446e-be1f-e1fe14c8ef2d",
   "metadata": {},
   "source": [
    "Check for missing data:"
   ]
  },
  {
   "cell_type": "code",
   "execution_count": 7,
   "id": "7f1ff49f-a1dd-4fe4-92b5-39f282f6ae95",
   "metadata": {},
   "outputs": [
    {
     "name": "stdout",
     "output_type": "stream",
     "text": [
      "Country                               0\n",
      "Year                                  0\n",
      "Disease Name                          0\n",
      "Disease Category                      0\n",
      "Prevalence Rate (%)                   0\n",
      "Incidence Rate (%)                    0\n",
      "Mortality Rate (%)                    0\n",
      "Age Group                             0\n",
      "Gender                                0\n",
      "Population Affected                   0\n",
      "Healthcare Access (%)                 0\n",
      "Doctors per 1000                      0\n",
      "Hospital Beds per 1000                0\n",
      "Treatment Type                        0\n",
      "Average Treatment Cost (USD)          0\n",
      "Availability of Vaccines/Treatment    0\n",
      "Recovery Rate (%)                     0\n",
      "DALYs                                 0\n",
      "Improvement in 5 Years (%)            0\n",
      "Per Capita Income (USD)               0\n",
      "Education Index                       0\n",
      "Urbanization Rate (%)                 0\n",
      "dtype: int64\n"
     ]
    }
   ],
   "source": [
    "print(global_health_data.isna().sum())\n",
    "#no missing values"
   ]
  },
  {
   "cell_type": "markdown",
   "id": "4a25b081-b717-4f8f-b95d-784a565d8f11",
   "metadata": {},
   "source": [
    "Drop uneeded data"
   ]
  },
  {
   "cell_type": "code",
   "execution_count": 10,
   "id": "7cd5d8d9-54e0-4895-aa8a-468dcf931538",
   "metadata": {},
   "outputs": [],
   "source": [
    "#drop column \"Disease Category\"\n",
    "selected_health_data = global_health_data.drop(columns=[\"Disease Category\"])"
   ]
  },
  {
   "cell_type": "code",
   "execution_count": 14,
   "id": "ce37d3b6-6f0c-41bd-baa1-27dd279e2e4f",
   "metadata": {},
   "outputs": [
    {
     "data": {
      "text/plain": [
       "Disease Name\n",
       "COVID-19               50404\n",
       "Cancer                 50285\n",
       "Diabetes               50020\n",
       "Tuberculosis           49862\n",
       "Alzheimer's Disease    49823\n",
       "Name: count, dtype: int64"
      ]
     },
     "execution_count": 14,
     "metadata": {},
     "output_type": "execute_result"
    }
   ],
   "source": [
    "# Filter data based on top 5 common diseases\n",
    "sel_fil_health_data = selected_health_data[\n",
    "    (selected_health_data['Disease Name'].isin(['COVID-19', 'Cancer', 'Diabetes', 'Tuberculosis', \"Alzheimer's Disease\"]))].copy()\n",
    "\n",
    "# Check filter worked\n",
    "sel_fil_health_data.value_counts('Disease Name', dropna=False)"
   ]
  },
  {
   "cell_type": "markdown",
   "id": "7b2cb146-bd14-410e-9f85-220632af7593",
   "metadata": {},
   "source": [
    "Export clean dataset"
   ]
  },
  {
   "cell_type": "code",
   "execution_count": 17,
   "id": "a01a58fa-d8a5-478d-9ec3-33ffd7322f1b",
   "metadata": {},
   "outputs": [],
   "source": [
    "sel_fil_health_data.to_csv(\"cleaned_global_health_data.csv\", index=False)"
   ]
  },
  {
   "cell_type": "code",
   "execution_count": null,
   "id": "ac33209b-04b8-4227-a930-e93ba351a48c",
   "metadata": {},
   "outputs": [],
   "source": []
  }
 ],
 "metadata": {
  "kernelspec": {
   "display_name": "Python [conda env:base] *",
   "language": "python",
   "name": "conda-base-py"
  },
  "language_info": {
   "codemirror_mode": {
    "name": "ipython",
    "version": 3
   },
   "file_extension": ".py",
   "mimetype": "text/x-python",
   "name": "python",
   "nbconvert_exporter": "python",
   "pygments_lexer": "ipython3",
   "version": "3.13.5"
  }
 },
 "nbformat": 4,
 "nbformat_minor": 5
}
